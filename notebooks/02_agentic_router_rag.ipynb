{
 "cells": [
  {
   "cell_type": "markdown",
   "metadata": {},
   "source": [
    "# Agentic Router RAG with LangGraph\n",
    "\n",
    "In this notebook, we'll build an agentic RAG system that can route queries to the appropriate data source, including web search for current information. This solves some of the limitations we saw in the basic RAG approach.\n",
    "\n",
    "## What is Agentic Router RAG?\n",
    "\n",
    "Router RAG adds an intelligent routing layer that:\n",
    "1. **Analyzes the query** to understand the user's intent\n",
    "2. **Routes to the appropriate data source** (catalog, FAQ, troubleshooting, or web search)\n",
    "3. **Retrieves relevant documents** from the correct collection or searches the web\n",
    "4. **Generates contextual answers** using only relevant information\n",
    "\n",
    "## Learning Objectives\n",
    "\n",
    "By the end of this notebook, you will:\n",
    "- Understand how query routing works in RAG systems\n",
    "- Connect to multiple ChromaDB collections, for different types of data\n",
    "- Integrate web search for current information using Tavily\n",
    "- Build a router node that classifies query intent\n",
    "- Create conditional workflows in LangGraph\n",
    "- Compare router RAG performance with basic RAG"
   ]
  },
  {
   "cell_type": "markdown",
   "metadata": {},
   "source": [
    "## Setup and Imports\n",
    "\n",
    "We'll need additional imports for the router functionality and structured output."
   ]
  },
  {
   "cell_type": "code",
   "execution_count": 50,
   "metadata": {},
   "outputs": [
    {
     "name": "stdout",
     "output_type": "stream",
     "text": [
      "All imports successful!\n"
     ]
    }
   ],
   "source": [
    "import os\n",
    "from pathlib import Path\n",
    "from typing import List, TypedDict, Literal\n",
    "\n",
    "from dotenv import load_dotenv\n",
    "from langchain_chroma import Chroma\n",
    "from langchain_core.documents import Document\n",
    "from langchain_core.prompts import ChatPromptTemplate\n",
    "from langchain_openai import ChatOpenAI, OpenAIEmbeddings\n",
    "from langchain_community.retrievers import TavilySearchAPIRetriever\n",
    "from langgraph.graph import StateGraph, END\n",
    "from pydantic import BaseModel, Field\n",
    "from IPython.display import Image, display\n",
    "\n",
    "# Load environment variables\n",
    "load_dotenv()\n",
    "\n",
    "print(\"All imports successful!\")"
   ]
  },
  {
   "cell_type": "markdown",
   "metadata": {},
   "source": [
    "## Environment Setup\n",
    "\n",
    "Check for required environment variables."
   ]
  },
  {
   "cell_type": "code",
   "execution_count": 2,
   "metadata": {},
   "outputs": [
    {
     "name": "stdout",
     "output_type": "stream",
     "text": [
      "OpenAI API key found!\n",
      "Tavily API key found!\n"
     ]
    }
   ],
   "source": [
    "# Check if OpenAI API key is available\n",
    "openai_api_key = os.getenv(\"OPENAI_API_KEY\")\n",
    "if not openai_api_key:\n",
    "    raise ValueError(\"OPENAI_API_KEY environment variable is required\")\n",
    "\n",
    "# Check if Tavily API key is available\n",
    "tavily_api_key = os.getenv(\"TAVILY_API_KEY\")\n",
    "if not tavily_api_key:\n",
    "    raise ValueError(\"TAVILY_API_KEY environment variable is required for web search functionality\")\n",
    "\n",
    "print(\"OpenAI API key found!\")\n",
    "print(\"Tavily API key found!\")"
   ]
  },
  {
   "cell_type": "markdown",
   "metadata": {},
   "source": [
    "## Understanding Our Separate Collections\n",
    "\n",
    "Unlike the basic RAG notebook, we now have three separate ChromaDB collections:\n",
    "\n",
    "1. **techmart_catalog**: Product information, specifications, and descriptions\n",
    "2. **techmart_faq**: Customer service questions about shipping, returns, policies\n",
    "3. **techmart_troubleshooting**: Technical support guides and solutions\n",
    "\n",
    "Each collection contains documents optimized for its specific domain."
   ]
  },
  {
   "cell_type": "markdown",
   "metadata": {},
   "source": [
    "## Connect to Separate ChromaDB Collections\n",
    "\n",
    "We'll create three separate vector store instances, one for each collection."
   ]
  },
  {
   "cell_type": "code",
   "execution_count": 3,
   "metadata": {},
   "outputs": [
    {
     "name": "stdout",
     "output_type": "stream",
     "text": [
      "Connected to separate ChromaDB collections at: ../vector_store/chroma_db_separate\n",
      "Catalog collection: 325 documents\n",
      "FAQ collection: 50 documents\n",
      "Troubleshooting collection: 154 documents\n"
     ]
    }
   ],
   "source": [
    "# Initialize embeddings model (same as used during ingestion)\n",
    "embeddings = OpenAIEmbeddings(\n",
    "    model=os.getenv(\"OPENAI_EMBEDDING_MODEL\", \"text-embedding-3-small\"),\n",
    "    api_key=openai_api_key\n",
    ")\n",
    "\n",
    "# Path to the separate ChromaDB collections\n",
    "chroma_db_path = Path(\"..\") / \"vector_store\" / \"chroma_db_separate\"\n",
    "\n",
    "# Connect to each collection\n",
    "catalog_store = Chroma(\n",
    "    collection_name=\"techmart_catalog\",\n",
    "    embedding_function=embeddings,\n",
    "    persist_directory=str(chroma_db_path)\n",
    ")\n",
    "\n",
    "faq_store = Chroma(\n",
    "    collection_name=\"techmart_faq\",\n",
    "    embedding_function=embeddings,\n",
    "    persist_directory=str(chroma_db_path)\n",
    ")\n",
    "\n",
    "troubleshooting_store = Chroma(\n",
    "    collection_name=\"techmart_troubleshooting\",\n",
    "    embedding_function=embeddings,\n",
    "    persist_directory=str(chroma_db_path)\n",
    ")\n",
    "\n",
    "print(f\"Connected to separate ChromaDB collections at: {chroma_db_path}\")\n",
    "print(f\"Catalog collection: {catalog_store._collection.count()} documents\")\n",
    "print(f\"FAQ collection: {faq_store._collection.count()} documents\")\n",
    "print(f\"Troubleshooting collection: {troubleshooting_store._collection.count()} documents\")"
   ]
  },
  {
   "cell_type": "markdown",
   "metadata": {},
   "source": [
    "## Test Each Collection\n",
    "\n",
    "Let's verify each collection contains the expected type of information."
   ]
  },
  {
   "cell_type": "code",
   "execution_count": 56,
   "metadata": {},
   "outputs": [
    {
     "name": "stdout",
     "output_type": "stream",
     "text": [
      "\n",
      "CATALOG Collection - Query: 'laptop with good performance'\n",
      "============================================================\n",
      "Document 1: product_id: SKU232 | name: ZenithBook 11 Evo | category: Laptop | price: 1299.0 | short_desc: A sleek 15-inch ultrabook with Intel Core i7, 16GB RAM, ...\n",
      "Document 2: product_id: SKU050 | name: ZenithBook 15 Evo | category: Laptop | price: 1299.0 | short_desc: 15.6\" ultralight laptop with Intel Core i7, 16GB RAM, sp...\n",
      "------------------------------------------------------------\n",
      "\n",
      "FAQ Collection - Query: 'shipping times'\n",
      "============================================================\n",
      "Document 1: question: How long does standard shipping take within the continental US? | answer: Standard shipping typically arrives in 3–5 business days once your...\n",
      "Document 2: question: Do you offer next‑day delivery for laptops? | answer: Yes, we offer overnight delivery on all in‑stock laptops for orders placed before 2 p....\n",
      "------------------------------------------------------------\n",
      "\n",
      "TROUBLESHOOTING Collection - Query: 'battery drain problem'\n",
      "============================================================\n",
      "Document 1: issue_title: UltraBook Pro battery drains quickly | product_id: SKU001 | symptoms: Battery indicator drops from 100 % to 70 % in under an hour of web ...\n",
      "Document 2: issue_title: Zenith X5 battery drains overnight | product_id: SKU014 | symptoms: Battery drops 20 % while idle on standby. | steps: 1. Disable ‘Always...\n",
      "------------------------------------------------------------\n"
     ]
    }
   ],
   "source": [
    "# Test each collection with a relevant query\n",
    "test_queries = {\n",
    "    \"catalog\": \"laptop with good performance\",\n",
    "    \"faq\": \"shipping times\", \n",
    "    \"troubleshooting\": \"battery drain problem\"\n",
    "}\n",
    "\n",
    "stores = {\n",
    "    \"catalog\": catalog_store,\n",
    "    \"faq\": faq_store,\n",
    "    \"troubleshooting\": troubleshooting_store\n",
    "}\n",
    "\n",
    "for collection_name, query in test_queries.items():\n",
    "    store = stores[collection_name]\n",
    "    results = store.similarity_search(query, k=2)\n",
    "    \n",
    "    print(f\"\\n{collection_name.upper()} Collection - Query: '{query}'\")\n",
    "    print(\"=\" * 60)\n",
    "    for i, doc in enumerate(results, 1):\n",
    "        print(f\"Document {i}: {doc.page_content[:150]}...\")\n",
    "    print(\"-\" * 60)"
   ]
  },
  {
   "cell_type": "markdown",
   "metadata": {},
   "source": [
    "## Initialize Language Models\n",
    "\n",
    "We'll use separate OpenAI models for routing decisions and answer generation. This flexibility in an agentic RAG workflow gives us an opportunity to optimise cost and latency while making sure the performance of the overall system remains optimal."
   ]
  },
  {
   "cell_type": "code",
   "execution_count": 22,
   "metadata": {},
   "outputs": [
    {
     "name": "stdout",
     "output_type": "stream",
     "text": [
      "Answer generation language model initialized: gpt-4.1\n",
      "Routing language model initialized: gpt-4.1-mini\n"
     ]
    }
   ],
   "source": [
    "# Initialize the language model for generating answers\n",
    "generation_llm = ChatOpenAI(\n",
    "    model=os.getenv(\"OPENAI_MODEL\", \"gpt-4.1-mini\"),\n",
    "    api_key=openai_api_key\n",
    ")\n",
    "print(f\"Answer generation language model initialized: {generation_llm.model_name}\")\n",
    "\n",
    "# Initialize the language model for routing decisions\n",
    "routing_llm = ChatOpenAI(\n",
    "    model=\"gpt-4.1-mini\",\n",
    "    api_key=openai_api_key\n",
    ")\n",
    "print(f\"Routing language model initialized: {routing_llm.model_name}\")"
   ]
  },
  {
   "cell_type": "markdown",
   "metadata": {},
   "source": [
    "## Define Router Output Schema\n",
    "\n",
    "We'll use Pydantic to define the structure of our router's output, ensuring it always returns one of our three valid collection names."
   ]
  },
  {
   "cell_type": "code",
   "execution_count": 23,
   "metadata": {},
   "outputs": [
    {
     "name": "stdout",
     "output_type": "stream",
     "text": [
      "Router output schema defined!\n"
     ]
    }
   ],
   "source": [
    "class RouterOutput(BaseModel):\n",
    "    \"\"\"Output schema for the query router.\"\"\"\n",
    "    chosen_collection: Literal[\"catalog\", \"faq\", \"troubleshooting\", \"web_search\"] = Field(\n",
    "        description=\"The collection to route the query to based on intent\"\n",
    "    )\n",
    "    reasoning: str = Field(\n",
    "        description=\"Brief explanation of why this collection was chosen\"\n",
    "    )\n",
    "\n",
    "print(\"Router output schema defined!\")"
   ]
  },
  {
   "cell_type": "markdown",
   "metadata": {},
   "source": [
    "## Create Router Prompt Template\n",
    "\n",
    "This prompt will guide the LLM to classify queries and route them to the appropriate collection."
   ]
  },
  {
   "cell_type": "code",
   "execution_count": 25,
   "metadata": {},
   "outputs": [
    {
     "name": "stdout",
     "output_type": "stream",
     "text": [
      "Router prompt and chain created!\n"
     ]
    }
   ],
   "source": [
    "# Router prompt for query classification\n",
    "router_prompt = ChatPromptTemplate.from_template(\n",
    "    \"\"\"You are a query router for TechMart, an electronics retailer. \n",
    "Analyze the user's query and determine which collection contains the most relevant information.\n",
    "\n",
    "Collections available:\n",
    "- **catalog**: Product information, specifications recommendations, comparisons, and technical details about laptops, desktops, monitors, and accessories\n",
    "- **faq**: Customer service questions about shipping, delivery, returns, warranties, policies, and general business operations\n",
    "- **troubleshooting**: Technical support guides, problem diagnosis, step-by-step solutions, and fixes for product issues that TechMart sells\n",
    "- **web_search**: For questions about issues that are not covered in our internal troubleshooting database, or for getting the latest information about software, hardware, drivers, or anything that require current information from the internet\n",
    "\n",
    "Query: {query}\n",
    "\n",
    "Instructions:\n",
    "- Choose the single most appropriate collection for this query\n",
    "- If a query spans multiple domains, choose the primary intent\n",
    "- Use web_search for troubleshooting issues that are likely not covered in our limited internal database\n",
    "- Provide brief reasoning for your choice\n",
    "\n",
    "Examples:\n",
    "- \"What laptops do you recommend?\" → catalog (product recommendations)\n",
    "- \"How long does shipping take?\" → faq (shipping policy)\n",
    "- \"My laptop won't turn on\" → troubleshooting (common technical problem we likely have guides for)\n",
    "- \"Best gaming desktop under $2000\" → catalog (product search with specs)\n",
    "- \"Can I return a monitor?\" → faq (return policy)\n",
    "- \"Headphones keep disconnecting\" → troubleshooting (common connectivity issue)\n",
    "- \"Windows 11 blue screen error 0x0000007E\" → web_search (specific system error requiring current information)\n",
    "- \"How to fix Chrome crashes on latest macOS\" → web_search (software issue needing current solutions)\n",
    "- \"Latest NVIDIA driver causing display issues\" → web_search (current driver problem not in our database)\n",
    "- \"WiFi adapter not working after Windows update\" → web_search (current OS compatibility issue)\n",
    "\"\"\"\n",
    ")\n",
    "\n",
    "# Create router chain with structured output\n",
    "router_chain = router_prompt | routing_llm.with_structured_output(RouterOutput)\n",
    "\n",
    "print(\"Router prompt and chain created!\")"
   ]
  },
  {
   "cell_type": "markdown",
   "metadata": {},
   "source": [
    "## Test the Router\n",
    "\n",
    "Let's test our router with different types of queries to see how it classifies them."
   ]
  },
  {
   "cell_type": "code",
   "execution_count": 27,
   "metadata": {},
   "outputs": [
    {
     "name": "stdout",
     "output_type": "stream",
     "text": [
      "Testing Router Decisions (Including Web Search):\n",
      "======================================================================\n",
      "Query: Tell me about the UltraBook battery\n",
      "  → Collection: catalog\n",
      "  → Reasoning: The query asks for information about the UltraBook battery, which is product-specific information about a laptop component; therefore, the catalog collection is most appropriate.\n",
      "\n",
      "Query: How long does international shipping take?\n",
      "  → Collection: faq\n",
      "  → Reasoning: The query is about shipping duration, which is a common customer service question related to shipping policies and delivery times, typically covered in the FAQ collection.\n",
      "\n",
      "Query: Laptop battery drains too quickly\n",
      "  → Collection: troubleshooting\n",
      "  → Reasoning: The query describes a technical problem with a laptop battery draining quickly, which is likely addressed in our technical support guides and step-by-step solutions for common product issues.\n",
      "\n",
      "Query: Windows 11 blue screen error 0x0000007E\n",
      "  → Collection: web_search\n",
      "  → Reasoning: The query involves a specific Windows 11 blue screen error code (0x0000007E), which is a system-level issue that may not be covered in TechMart's internal troubleshooting database and often requires up-to-date solutions from the wider internet.\n",
      "\n",
      "Query: What's the latest Nvidia GPU for gaming?\n",
      "  → Collection: web_search\n",
      "  → Reasoning: The user is asking for the latest Nvidia GPU for gaming, which is current market information that may not be present in our internal catalog. Therefore, web_search is the best source for the most up-to-date details.\n",
      "\n"
     ]
    }
   ],
   "source": [
    "# Test queries for each collection type including web search\n",
    "test_router_queries = [\n",
    "    \"Tell me about the UltraBook battery\",\n",
    "    \"How long does international shipping take?\",\n",
    "    \"Laptop battery drains too quickly\",\n",
    "    \"Windows 11 blue screen error 0x0000007E\",\n",
    "    \"What's the latest Nvidia GPU for gaming?\",\n",
    "]\n",
    "\n",
    "print(\"Testing Router Decisions (Including Web Search):\")\n",
    "print(\"=\" * 70)\n",
    "\n",
    "for query in test_router_queries:\n",
    "    result = router_chain.invoke({\"query\": query})\n",
    "    print(f\"Query: {query}\")\n",
    "    print(f\"  → Collection: {result.chosen_collection}\")\n",
    "    print(f\"  → Reasoning: {result.reasoning}\")\n",
    "    print()"
   ]
  },
  {
   "cell_type": "markdown",
   "metadata": {},
   "source": [
    "## Define State for Router RAG\n",
    "\n",
    "Our state needs to track the query, routing decision, retrieved documents, and final answer."
   ]
  },
  {
   "cell_type": "code",
   "execution_count": 28,
   "metadata": {},
   "outputs": [
    {
     "name": "stdout",
     "output_type": "stream",
     "text": [
      "Router RAG state defined!\n"
     ]
    }
   ],
   "source": [
    "class RouterRAGState(TypedDict):\n",
    "    \"\"\"State for our Router RAG workflow.\"\"\"\n",
    "    query: str\n",
    "    chosen_collection: str\n",
    "    routing_reasoning: str\n",
    "    retrieved_docs: List[Document]\n",
    "    answer: str\n",
    "\n",
    "print(\"Router RAG state defined!\")"
   ]
  },
  {
   "cell_type": "markdown",
   "metadata": {},
   "source": [
    "## Create Router Node\n",
    "\n",
    "The router node analyzes the query and determines which collection to search."
   ]
  },
  {
   "cell_type": "code",
   "execution_count": 29,
   "metadata": {},
   "outputs": [
    {
     "name": "stdout",
     "output_type": "stream",
     "text": [
      "Router node created!\n"
     ]
    }
   ],
   "source": [
    "def query_router(state: RouterRAGState) -> RouterRAGState:\n",
    "    \"\"\"Route query to the appropriate collection based on intent.\"\"\"\n",
    "    query = state[\"query\"]\n",
    "    \n",
    "    # Use the router chain to classify the query\n",
    "    router_result = router_chain.invoke({\"query\": query})\n",
    "    \n",
    "    print(f\"Router Decision: {router_result.chosen_collection}\")\n",
    "    print(f\"Reasoning: {router_result.reasoning}\")\n",
    "    \n",
    "    return {\n",
    "        \"chosen_collection\": router_result.chosen_collection,\n",
    "        \"routing_reasoning\": router_result.reasoning\n",
    "    }\n",
    "\n",
    "print(\"Router node created!\")"
   ]
  },
  {
   "cell_type": "markdown",
   "metadata": {},
   "source": [
    "## Create Retrieve Nodes\n",
    "\n",
    "We'll create separate retrieve nodes for each collection."
   ]
  },
  {
   "cell_type": "code",
   "execution_count": 36,
   "metadata": {},
   "outputs": [
    {
     "name": "stdout",
     "output_type": "stream",
     "text": [
      "Retrieve nodes created!\n",
      "Tavily web search retriever initialized!\n"
     ]
    }
   ],
   "source": [
    "# Initialize Tavily retriever for web search\n",
    "tavily_retriever = TavilySearchAPIRetriever(\n",
    "    api_key=tavily_api_key,\n",
    "    k=5,  # Number of search results to return\n",
    "    include_generated_answer=False,\n",
    "    include_raw_content=False\n",
    ")\n",
    "\n",
    "def retrieve_from_catalog(state: RouterRAGState) -> RouterRAGState:\n",
    "    \"\"\"Retrieve documents from the product catalog.\"\"\"\n",
    "    query = state[\"query\"]\n",
    "    retrieved_docs = catalog_store.similarity_search(query, k=5)\n",
    "    \n",
    "    # Print first 100 characters of each retrieved document with source\n",
    "    for i, doc in enumerate(retrieved_docs, 1):\n",
    "        source = doc.metadata.get('source', 'Unknown')\n",
    "        content_preview = doc.page_content[:100]\n",
    "        print(f\"  Doc {i} [{source}]: {content_preview}...\")\n",
    "    \n",
    "    print(f\"Retrieved {len(retrieved_docs)} documents from catalog\")\n",
    "    return {\"retrieved_docs\": retrieved_docs}\n",
    "\n",
    "def retrieve_from_faq(state: RouterRAGState) -> RouterRAGState:\n",
    "    \"\"\"Retrieve documents from the FAQ collection.\"\"\"\n",
    "    query = state[\"query\"]\n",
    "    retrieved_docs = faq_store.similarity_search(query, k=5)\n",
    "    \n",
    "    # Print first 100 characters of each retrieved document with source\n",
    "    for i, doc in enumerate(retrieved_docs, 1):\n",
    "        source = doc.metadata.get('source', 'Unknown')\n",
    "        content_preview = doc.page_content[:100]\n",
    "        print(f\"  Doc {i} [{source}]: {content_preview}...\")\n",
    "    \n",
    "    print(f\"Retrieved {len(retrieved_docs)} documents from FAQ\")\n",
    "    return {\"retrieved_docs\": retrieved_docs}\n",
    "\n",
    "def retrieve_from_troubleshooting(state: RouterRAGState) -> RouterRAGState:\n",
    "    \"\"\"Retrieve documents from the troubleshooting collection.\"\"\"\n",
    "    query = state[\"query\"]\n",
    "    retrieved_docs = troubleshooting_store.similarity_search(query, k=5)\n",
    "    \n",
    "    # Print first 100 characters of each retrieved document with source\n",
    "    for i, doc in enumerate(retrieved_docs, 1):\n",
    "        source = doc.metadata.get('source', 'Unknown')\n",
    "        content_preview = doc.page_content[:100]\n",
    "        print(f\"  Doc {i} [{source}]: {content_preview}...\")\n",
    "    \n",
    "    print(f\"Retrieved {len(retrieved_docs)} documents from troubleshooting\")\n",
    "    return {\"retrieved_docs\": retrieved_docs}\n",
    "\n",
    "def retrieve_from_web_search(state: RouterRAGState) -> RouterRAGState:\n",
    "    \"\"\"Retrieve documents from web search using Tavily.\"\"\"\n",
    "    query = state[\"query\"]\n",
    "    \n",
    "    # Use Tavily to search the web\n",
    "    retrieved_docs = tavily_retriever.get_relevant_documents(query)\n",
    "    \n",
    "    # Print first 100 characters of each retrieved document with source\n",
    "    for i, doc in enumerate(retrieved_docs, 1):\n",
    "        source = doc.metadata.get('source', 'Unknown')\n",
    "        content_preview = doc.page_content[:100]\n",
    "        print(f\"  Doc {i} [{source}]: {content_preview}...\")\n",
    "    \n",
    "    print(f\"Retrieved {len(retrieved_docs)} documents from web search\")\n",
    "    return {\"retrieved_docs\": retrieved_docs}\n",
    "\n",
    "print(\"Retrieve nodes created!\")\n",
    "print(\"Tavily web search retriever initialized!\")"
   ]
  },
  {
   "cell_type": "markdown",
   "metadata": {},
   "source": [
    "## Create Generate Node\n",
    "\n",
    "The generate node creates answers using the retrieved documents from the selected collection."
   ]
  },
  {
   "cell_type": "code",
   "execution_count": 37,
   "metadata": {},
   "outputs": [
    {
     "name": "stdout",
     "output_type": "stream",
     "text": [
      "Generate node created!\n"
     ]
    }
   ],
   "source": [
    "# Enhanced prompt template for router RAG\n",
    "generate_prompt = ChatPromptTemplate.from_template(\n",
    "    \"\"\"You are a helpful assistant for TechMart, an electronics retailer.\n",
    "Use the following context from the {collection_type} database to answer the user's question accurately and helpfully.\n",
    "\n",
    "Context from {collection_type}:\n",
    "{context}\n",
    "\n",
    "Question: {question}\n",
    "\n",
    "Instructions:\n",
    "- Base your answer primarily on the provided context from the {collection_type} database\n",
    "- Be specific and helpful in your response\n",
    "- If the context doesn't contain enough information, say so clearly\n",
    "- Match your tone to the type of query (technical for troubleshooting, helpful for products, informative for policies)\n",
    "\n",
    "Answer:\"\"\"\n",
    ")\n",
    "\n",
    "def generate_answer(state: RouterRAGState) -> RouterRAGState:\n",
    "    \"\"\"Generate answer based on retrieved documents.\"\"\"\n",
    "    query = state[\"query\"]\n",
    "    collection_type = state[\"chosen_collection\"]\n",
    "    retrieved_docs = state[\"retrieved_docs\"]\n",
    "    \n",
    "    # Combine context from retrieved documents\n",
    "    context_text = \"\\n\\n\".join([\n",
    "        f\"Source: {doc.metadata.get('source', 'Unknown')}\\nContent: {doc.page_content}\"\n",
    "        for doc in retrieved_docs\n",
    "    ])\n",
    "    \n",
    "    # Generate response\n",
    "    messages = generate_prompt.invoke({\n",
    "        \"context\": context_text,\n",
    "        \"question\": query,\n",
    "        \"collection_type\": collection_type\n",
    "    })\n",
    "    \n",
    "    response = generation_llm.invoke(messages)\n",
    "    \n",
    "    print(f\"Generated answer using {collection_type} collection\")\n",
    "    return {\"answer\": response.content}\n",
    "\n",
    "print(\"Generate node created!\")"
   ]
  },
  {
   "cell_type": "markdown",
   "metadata": {},
   "source": [
    "## Build the Router RAG Graph\n",
    "\n",
    "Now we'll create our LangGraph with conditional routing based on the router's decision."
   ]
  },
  {
   "cell_type": "code",
   "execution_count": 38,
   "metadata": {},
   "outputs": [
    {
     "name": "stdout",
     "output_type": "stream",
     "text": [
      "Router RAG graph compiled successfully!\n",
      "Workflow: router -> [conditional] retrieve_[collection|web_search] -> generate\n"
     ]
    }
   ],
   "source": [
    "# Define routing function for conditional edges\n",
    "def route_to_collection(state: RouterRAGState) -> str:\n",
    "    \"\"\"Determine which retrieve node to call based on router decision.\"\"\"\n",
    "    collection = state[\"chosen_collection\"]\n",
    "    return f\"retrieve_{collection}\"\n",
    "\n",
    "# Create the graph builder\n",
    "graph_builder = StateGraph(RouterRAGState)\n",
    "\n",
    "# Add all nodes\n",
    "graph_builder.add_node(\"router\", query_router)\n",
    "graph_builder.add_node(\"retrieve_catalog\", retrieve_from_catalog)\n",
    "graph_builder.add_node(\"retrieve_faq\", retrieve_from_faq)\n",
    "graph_builder.add_node(\"retrieve_troubleshooting\", retrieve_from_troubleshooting)\n",
    "graph_builder.add_node(\"retrieve_web_search\", retrieve_from_web_search)\n",
    "graph_builder.add_node(\"generate\", generate_answer)\n",
    "\n",
    "# Set entry point\n",
    "graph_builder.set_entry_point(\"router\")\n",
    "\n",
    "# Add conditional edges from router to appropriate retrieve node\n",
    "graph_builder.add_conditional_edges(\n",
    "    \"router\",\n",
    "    route_to_collection,\n",
    "    {\n",
    "        \"retrieve_catalog\": \"retrieve_catalog\",\n",
    "        \"retrieve_faq\": \"retrieve_faq\", \n",
    "        \"retrieve_troubleshooting\": \"retrieve_troubleshooting\",\n",
    "        \"retrieve_web_search\": \"retrieve_web_search\"\n",
    "    }\n",
    ")\n",
    "\n",
    "# All retrieve nodes go to generate\n",
    "graph_builder.add_edge(\"retrieve_catalog\", \"generate\")\n",
    "graph_builder.add_edge(\"retrieve_faq\", \"generate\")\n",
    "graph_builder.add_edge(\"retrieve_troubleshooting\", \"generate\")\n",
    "graph_builder.add_edge(\"retrieve_web_search\", \"generate\")\n",
    "\n",
    "# Generate is the end\n",
    "graph_builder.add_edge(\"generate\", END)\n",
    "\n",
    "# Compile the graph\n",
    "router_rag_graph = graph_builder.compile()\n",
    "\n",
    "print(\"Router RAG graph compiled successfully!\")\n",
    "print(\"Workflow: router -> [conditional] retrieve_[collection|web_search] -> generate\")"
   ]
  },
  {
   "cell_type": "markdown",
   "metadata": {},
   "source": [
    "## Visualize the Router RAG Graph\n",
    "\n",
    "Let's visualize our router RAG workflow to see how the conditional routing works."
   ]
  },
  {
   "cell_type": "code",
   "execution_count": 39,
   "metadata": {},
   "outputs": [
    {
     "data": {
      "image/png": "[encoded data removed]",
      "text/plain": [
       "<IPython.core.display.Image object>"
      ]
     },
     "metadata": {},
     "output_type": "display_data"
    }
   ],
   "source": [
    "from IPython.display import Image, display\n",
    "\n",
    "display(Image(router_rag_graph.get_graph().draw_mermaid_png()))"
   ]
  },
  {
   "cell_type": "markdown",
   "metadata": {},
   "source": [
    "## Test the Complete Router RAG System\n",
    "\n",
    "Let's test our router RAG system with various types of queries."
   ]
  },
  {
   "cell_type": "code",
   "execution_count": 40,
   "metadata": {},
   "outputs": [],
   "source": [
    "def ask_router_rag(query: str):\n",
    "    \"\"\"Ask a question to our Router RAG system.\"\"\"\n",
    "    print(f\"\\nQuery: {query}\")\n",
    "    print(\"=\" * 70)\n",
    "    \n",
    "    # Run the router RAG workflow\n",
    "    result = router_rag_graph.invoke({\"query\": query})\n",
    "    \n",
    "    print(f\"\\nAnswer: {result['answer']}\")\n",
    "    print(\"=\" * 70)"
   ]
  },
  {
   "cell_type": "code",
   "execution_count": 41,
   "metadata": {},
   "outputs": [
    {
     "name": "stdout",
     "output_type": "stream",
     "text": [
      "\n",
      "Query: I need a lightweight laptop for university. What do you recommend?\n",
      "======================================================================\n",
      "Router Decision: catalog\n",
      "Reasoning: The query is seeking a product recommendation for a lightweight laptop suitable for university, which falls under product information and recommendations in the catalog collection.\n",
      "  Doc 1 [techmart_catalog.csv]: product_id: SKU254 | name: AeroLite 15 Slim Laptop | category: Laptop | price: 1249.0 | short_desc: ...\n",
      "  Doc 2 [techmart_catalog.csv]: product_id: SKU028 | name: ZenLite 15 Evo Laptop | category: Laptop | price: 1199.0 | short_desc: Sl...\n",
      "  Doc 3 [techmart_catalog.csv]: product_id: SKU050 | name: ZenithBook 15 Evo | category: Laptop | price: 1299.0 | short_desc: 15.6\" ...\n",
      "  Doc 4 [techmart_catalog.csv]: product_id: SKU164 | name: ZenithBook Air 13 | category: Laptop | price: 1199.0 | short_desc: Ultra-...\n",
      "  Doc 5 [techmart_catalog.csv]: product_id: SKU306 | name: NeuraBook Air 13 | category: Laptop | price: 1199.0 | short_desc: Ultra-l...\n",
      "Retrieved 5 documents from catalog\n",
      "Generated answer using catalog collection\n",
      "\n",
      "Answer: Based on your need for a lightweight laptop for university, I recommend considering the following options from our catalog. All these models are ultralight, portable, and have excellent battery life—perfect for students on the go:\n",
      "\n",
      "**1. ZenithBook Air 13**  \n",
      "- **Weight:** 1.09 kg (our lightest option)\n",
      "- **Battery Life:** Up to 15 hours\n",
      "- **Screen:** 13.3\" FHD+ IPS display, 400 nits, 100% sRGB (excellent for clear visuals)\n",
      "- **CPU & Memory:** Intel Core i5 (13th Gen), 16GB RAM, 512GB SSD\n",
      "- **Ports:** 2x Thunderbolt 4 USB-C, 1x USB-A 3.2, 3.5mm audio, microSD reader  \n",
      "- **Price:** $1199.00\n",
      "\n",
      "**2. NeuraBook Air 13**  \n",
      "- **Weight:** 1.1 kg\n",
      "- **Battery Life:** Up to 14 hours\n",
      "- **Screen:** 13.3\" IPS (2560x1600), 400 nits (high resolution, very clear)\n",
      "- **CPU & Memory:** Intel Core i5 (12th Gen), 16GB RAM, 512GB SSD\n",
      "- **Ports:** 2x Thunderbolt 4 USB-C, 1x USB-A 3.2, 1x HDMI 2.1, MicroSD slot, 3.5mm audio  \n",
      "- **Price:** $1199.00\n",
      "\n",
      "Both of these laptops are ultra-portable, offer all-day battery life, and come with modern connectivity (Thunderbolt 4, USB-A, and microSD). The main difference is the screen resolution and slightly different processor generations. If you prefer a higher-resolution display, the NeuraBook Air 13 is a great choice; if you want the absolute lightest model and best battery life, the ZenithBook Air 13 is ideal.\n",
      "\n",
      "If you need a larger screen but are still looking for something lightweight, you might consider:\n",
      "\n",
      "**3. AeroLite 15 Slim Laptop**  \n",
      "- **Weight:** 1.29 kg\n",
      "- **Screen:** 15.6\" FHD IPS, 400 nits\n",
      "- **Battery Life:** Up to 13 hours\n",
      "- **CPU & Memory:** Intel Core i7, 16GB RAM, 512GB SSD  \n",
      "- **Price:** $1249.00\n",
      "\n",
      "Let me know if you want more details or have preferences (like screen size or specific features)!\n",
      "======================================================================\n"
     ]
    }
   ],
   "source": [
    "# Test with a product recommendation query\n",
    "ask_router_rag(\"I need a lightweight laptop for university. What do you recommend?\")"
   ]
  },
  {
   "cell_type": "code",
   "execution_count": 42,
   "metadata": {},
   "outputs": [
    {
     "name": "stdout",
     "output_type": "stream",
     "text": [
      "\n",
      "Query: How long does shipping take?\n",
      "======================================================================\n",
      "Router Decision: faq\n",
      "Reasoning: The user is asking about shipping duration, which is related to shipping policies and delivery times covered in the FAQ collection.\n",
      "  Doc 1 [techmart_faq.csv]: question: How long does standard shipping take within the continental US? | answer: Standard shippin...\n",
      "  Doc 2 [techmart_faq.csv]: question: How much does international shipping cost? | answer: International shipping starts at USD ...\n",
      "  Doc 3 [techmart_faq.csv]: question: Can I track my package after it ships? | answer: Absolutely. A tracking link is emailed to...\n",
      "  Doc 4 [techmart_faq.csv]: question: Do you offer next‑day delivery for laptops? | answer: Yes, we offer overnight delivery on ...\n",
      "  Doc 5 [techmart_faq.csv]: question: When will I receive my refund? | answer: Refunds are processed 3–5 business days after we ...\n",
      "Retrieved 5 documents from FAQ\n",
      "Generated answer using faq collection\n",
      "\n",
      "Answer: Standard shipping within the continental US typically takes 3–5 business days once your order has left our warehouse. If you need your order faster, overnight delivery is available for all in-stock laptops when you place your order before 2 p.m. local warehouse time. For international shipping, delivery times can vary, but please note that costs start at USD 25 and are calculated at checkout based on weight and destination. If you need a more specific estimate for your region or product, please let us know!\n",
      "======================================================================\n"
     ]
    }
   ],
   "source": [
    "# Test with a shipping policy query\n",
    "ask_router_rag(\"How long does shipping take?\")"
   ]
  },
  {
   "cell_type": "code",
   "execution_count": 43,
   "metadata": {},
   "outputs": [
    {
     "name": "stdout",
     "output_type": "stream",
     "text": [
      "\n",
      "Query: My laptop battery drains very quickly\n",
      "======================================================================\n",
      "Router Decision: troubleshooting\n",
      "Reasoning: The query involves diagnosing and resolving an issue with a laptop battery draining quickly, which is a common hardware-related problem likely covered in our troubleshooting guides.\n",
      "  Doc 1 [techmart_troubleshooting.csv]: issue_title: UltraBook Pro battery drains quickly | product_id: SKU001 | symptoms: Battery indicator...\n",
      "  Doc 2 [techmart_troubleshooting.csv]: issue_title: Zenith X5 battery drains overnight | product_id: SKU014 | symptoms: Battery drops 20 % ...\n",
      "  Doc 3 [techmart_troubleshooting.csv]: issue_title: Laptop Battery Not Charging When Plugged In | product_id: SKU230 | symptoms: When the A...\n",
      "  Doc 4 [techmart_troubleshooting.csv]: issue_title: Laptop Not Charging When Connected to USB-C Power Adapter | product_id: SKU177 | sympto...\n",
      "  Doc 5 [techmart_troubleshooting.csv]: issue_title: PixelStream X5 5G Smartphone Battery Drains Rapidly | product_id: SKU171 | symptoms: Us...\n",
      "Retrieved 5 documents from troubleshooting\n",
      "Generated answer using troubleshooting collection\n",
      "\n",
      "Answer: I'm sorry to hear your laptop battery is draining quickly. To provide the most accurate troubleshooting steps, it helps to know your laptop's model. However, based on the most common causes of rapid battery drain documented in our database, here are general steps you can follow:\n",
      "\n",
      "For UltraBook Pro (SKU001):\n",
      "1. Switch Windows power mode to ‘Balanced’ via the battery icon in the system tray or Windows Power Settings.\n",
      "2. Disable the OLED panel’s HDR in Display Settings, as HDR can significantly increase power consumption.\n",
      "3. Open Task Manager and look for any applications using more than 10% CPU. Close unnecessary apps that are consuming excessive resources.\n",
      "4. Check if your BIOS is up to date. Update to BIOS v1.09, which optimizes idle power draw.\n",
      "\n",
      "For Zenith X5 (SKU014):\n",
      "1. Disable ‘Always-on display’ in Settings.\n",
      "2. Turn off the 120 Hz refresh rate unless you're gaming.\n",
      "3. Open the Battery Usage section and identify any rogue apps with unusually high battery consumption.\n",
      "4. Install the firmware patch X5‑1.0.7 if it hasn’t been applied.\n",
      "\n",
      "For Smartphones (PixelStream X5 5G, SKU171):\n",
      "1. Restart the device to clear out background processes.\n",
      "2. Check the Battery Usage section for high-drain apps.\n",
      "3. Update or reinstall problematic apps, and install any available system updates.\n",
      "4. Lower your screen brightness, reduce the refresh rate, and disable 5G if not needed.\n",
      "5. Restrict background activity for non-essential apps.\n",
      "\n",
      "If you can tell me your laptop's exact model or product name (such as UltraBook Pro, ZenithBook 15 Evo, etc.), I can provide tailored troubleshooting steps. If your device is not listed above, please let me know, and I can assist you further!\n",
      "\n",
      "If the problem persists after trying these steps, consider contacting TechMart support for additional help, as there could be a hardware or battery issue requiring inspection.\n",
      "======================================================================\n"
     ]
    }
   ],
   "source": [
    "# Test with a troubleshooting query\n",
    "ask_router_rag(\"My laptop battery drains very quickly\")"
   ]
  },
  {
   "cell_type": "markdown",
   "metadata": {},
   "source": [
    "## Test the Problematic Questions from Basic RAG\n",
    "\n",
    "Now let's test the same problematic questions from the basic RAG notebook to see how router RAG handles them."
   ]
  },
  {
   "cell_type": "code",
   "execution_count": 57,
   "metadata": {},
   "outputs": [
    {
     "name": "stdout",
     "output_type": "stream",
     "text": [
      "\n",
      "Query: ultrabook pro charging ports\n",
      "======================================================================\n",
      "Router Decision: catalog\n",
      "Reasoning: The query 'ultrabook pro charging ports' relates to product specifications and features of a particular laptop model, which is covered in the catalog collection.\n",
      "  Doc 1 [techmart_catalog.csv]: product_id: SKU021 | name: ChargeHub 100 W GaN Charger | category: Power | price: 69.0 | short_desc:...\n",
      "  Doc 2 [techmart_catalog.csv]: product_id: SKU001 | name: UltraBook Pro 14 Laptop | category: Laptop | price: 1499.0 | short_desc: ...\n",
      "  Doc 3 [techmart_catalog.csv]: product_id: SKU232 | name: ZenithBook 11 Evo | category: Laptop | price: 1299.0 | short_desc: A slee...\n",
      "  Doc 4 [techmart_catalog.csv]: product_id: SKU098 | name: PowerEdge Max 100W GaN Charger | category: Power | price: 89.99 | short_d...\n",
      "  Doc 5 [techmart_catalog.csv]: product_id: SKU057 | name: ZenithBook 13 Evo | category: Laptop | price: 1299.0 | short_desc: Sleek ...\n",
      "Retrieved 5 documents from catalog\n",
      "Generated answer using catalog collection\n",
      "\n",
      "Answer: The UltraBook Pro 14 Laptop has the following charging ports:\n",
      "\n",
      "- 2× Thunderbolt 4 (USB-C) ports\n",
      "\n",
      "These Thunderbolt 4 ports support charging, data transfer, and external displays, making them versatile for powering your UltraBook Pro as well as connecting to accessories and chargers. \n",
      "\n",
      "If you need compatible chargers, high-wattage USB-C PD chargers (such as the ChargeHub 100 W GaN Charger or PowerEdge Max 100W GaN Charger) listed in our catalog will work well with this laptop.\n",
      "======================================================================\n"
     ]
    }
   ],
   "source": [
    "# troubleshooting vs product info\n",
    "ask_router_rag(\"ultrabook pro charging ports\")"
   ]
  },
  {
   "cell_type": "code",
   "execution_count": null,
   "metadata": {},
   "outputs": [
    {
     "name": "stdout",
     "output_type": "stream",
     "text": [
      "\n",
      "Query: What's your return policy for monitors?\n",
      "======================================================================\n",
      "Router Decision: faq\n",
      "Reasoning: The query asks about the return policy, which is related to customer service and business policies covered in the faq collection.\n",
      "  Doc 1 [techmart_faq.csv]: question: What is your return window? | answer: Most products can be returned in like‑new condition ...\n",
      "  Doc 2 [techmart_faq.csv]: question: What if I receive a damaged product? | answer: Please email photos of the damage within 48...\n",
      "  Doc 3 [techmart_faq.csv]: question: Do accessories come with warranty coverage? | answer: Accessories such as mice and keyboar...\n",
      "  Doc 4 [techmart_faq.csv]: question: Is return shipping free? | answer: Return shipping is free for defective items; for change...\n",
      "  Doc 5 [techmart_faq.csv]: question: How long is the warranty on laptops? | answer: All TechMart laptops carry a 1‑year limited...\n",
      "Retrieved 5 documents from FAQ\n",
      "Generated answer using faq collection\n",
      "\n",
      "Answer: Most products at TechMart, including monitors, can be returned in like-new condition within 30 days of delivery for a full refund. If you’re returning a monitor due to a defect, return shipping is free. For change-of-mind returns, a USD 7 fee is deducted from your refund.\n",
      "\n",
      "If you received a damaged monitor, please email photos of the damage within 48 hours so we can arrange a free pickup and replacement.\n",
      "======================================================================\n"
     ]
    }
   ],
   "source": [
    "# question about return policy for monitors / no longer returns info from catalog\n",
    "ask_router_rag(\"What's your return policy for monitors?\")"
   ]
  },
  {
   "cell_type": "code",
   "execution_count": 51,
   "metadata": {},
   "outputs": [
    {
     "name": "stdout",
     "output_type": "stream",
     "text": [
      "\n",
      "Query: Windows 11 blue screen error 0x0000007E - how do I fix this?\n",
      "======================================================================\n",
      "Router Decision: web_search\n",
      "Reasoning: The query is about a specific Windows 11 blue screen error code that likely requires up-to-date, detailed troubleshooting information beyond the scope of the internal troubleshooting database.\n",
      "  Doc 1 [https://www.salvagedata.com/blog/fix-windows-stop-error-0x0000007e]: Use a reliable registry cleaner to repair the 0x0000007e Blue Screen Error-related issues in the Win...\n",
      "  Doc 2 [https://learn.microsoft.com/en-us/answers/questions/3968710/frequent-blue-screen-with-error-code-0x0000007e-(w?forum=windows-all&referrer=answers]: As part of troubleshooting, I removed the motherboard battery and flashed the BIOS. Unfortunately, t...\n",
      "  Doc 3 [https://answers.microsoft.com/en-us/windows/forum/all/blue-screen-error-bugcheck-0x0000007e/b8c86686-246c-487a-aece-c74abf874168]: boot windows into safe mode only. Uninstall existing Nvidia drivers by using DDU software, and resta...\n",
      "  Doc 4 [https://learn.microsoft.com/en-us/answers/questions/1884347/windows-11-blue-screen-error-0x0000007e]: Firstly, I suggest that you could check update, if any security update could be found, installing it...\n",
      "  Doc 5 [https://outbyte.com/blog/how-to-fix-the-0x0000007e-error-code-on-windows-10-11/]: Insufficient Hard Disk Space: Insufficient hard disk space may make the outer environment of your sy...\n",
      "Retrieved 5 documents from web search\n",
      "Generated answer using web_search collection\n",
      "\n",
      "Answer: To fix the Windows 11 blue screen error 0x0000007E, you can try the following troubleshooting steps based on the provided context:\n",
      "\n",
      "1. **Update Windows:**  \n",
      "   Make sure your system is fully updated. Check for any available security or driver updates and install them. Sometimes, applying the latest updates can resolve compatibility and stability issues that cause blue screen errors.  \n",
      "   *(Source: learn.microsoft.com)*\n",
      "\n",
      "2. **Check Hard Disk Space:**  \n",
      "   Ensure you have sufficient free hard disk space. Insufficient disk space can trigger system instability and blue screen errors. Free up space if needed.  \n",
      "   *(Source: outbyte.com)*\n",
      "\n",
      "3. **Uninstall and Reinstall Graphics Drivers:**  \n",
      "   If you have an Nvidia graphics card, boot Windows into Safe Mode, then use DDU (Display Driver Uninstaller) to completely remove the existing Nvidia drivers. After rebooting, install the latest Nvidia driver from the official website.  \n",
      "   *(Source: answers.microsoft.com)*\n",
      "\n",
      "4. **Use a Reliable Registry Cleaner:**  \n",
      "   Run a trusted registry cleaner tool to repair any corrupted or problematic Windows Registry entries related to the 0x0000007E error.  \n",
      "   *(Source: salvagedata.com)*\n",
      "\n",
      "5. **Advanced Troubleshooting:**  \n",
      "   - Analyze minidump files generated during the crash to help isolate the cause.\n",
      "   - If advanced troubleshooting is needed, you may also try removing the motherboard battery and flashing the BIOS. (Note: This is an advanced procedure and should be performed carefully; it may not always resolve the issue.)  \n",
      "   *(Source: learn.microsoft.com and salvagedata.com)*\n",
      "\n",
      "If you continue to face the 0x0000007E blue screen error after trying these steps, it may indicate deeper hardware or software issues. In that case, contacting a professional technician or Microsoft support is recommended.\n",
      "\n",
      "Let me know if you need detailed guidance on any of the above steps.\n",
      "======================================================================\n"
     ]
    }
   ],
   "source": [
    "# Test with web search queries that need current information\n",
    "ask_router_rag(\"Windows 11 blue screen error 0x0000007E - how do I fix this?\")"
   ]
  },
  {
   "cell_type": "code",
   "execution_count": 52,
   "metadata": {},
   "outputs": [
    {
     "name": "stdout",
     "output_type": "stream",
     "text": [
      "\n",
      "Query: Whats the latest Nvidia GPU series for gaming?\n",
      "======================================================================\n",
      "Router Decision: web_search\n",
      "Reasoning: The user is asking about the latest Nvidia GPU series for gaming, which likely involves very recent product releases and up-to-date information not covered in our internal catalog. Therefore, web_search is the best option.\n",
      "  Doc 1 [https://www.nvidia.com/en-us/geforce/]: DLSS 4 is a neural rendering breakthrough powered by GeForce RTX 50 Series GPUs that brings new Mult...\n",
      "  Doc 2 [https://www.tomshardware.com/reviews/best-gpus,4380.html]: RTX 50-series GPUs are Nvidia's first with support for with multi-frame generation (MFG), which allo...\n",
      "  Doc 3 [https://en.wikipedia.org/wiki/List_of_Nvidia_graphics_processing_units]: \"New GeForce RTX 50 Series Graphics Cards & Laptops Powered By Nvidia Blackwell Bring Game-Changing ...\n",
      "  Doc 4 [https://www.nvidia.com/en-us/geforce/graphics-cards/]: Explore NVIDIA GeForce graphics cards. RTX 50 Series, RTX 40 Series, and more....\n",
      "  Doc 5 [https://www.ign.com/articles/best-nvidia-graphics-cards]: The Nvidia GeForce RTX 4070 Super is the perfect Nvidia graphics card for 1440p, no matter what game...\n",
      "Retrieved 5 documents from web search\n",
      "Generated answer using web_search collection\n",
      "\n",
      "Answer: The latest Nvidia GPU series for gaming is the GeForce RTX 50 Series. This series is powered by Nvidia's Blackwell architecture and introduces advanced features such as DLSS 4 with Multi Frame Generation, enhanced Ray Reconstruction, and significant AI and neural rendering capabilities. These improvements are designed to offer game-changing performance and visual enhancements for both gamers and creators. \n",
      "\n",
      "If you’d like recommendations or availability information for specific RTX 50 Series models, please let us know!\n",
      "======================================================================\n"
     ]
    }
   ],
   "source": [
    "# This query requires current hardware information not in our database\n",
    "ask_router_rag(\"Whats the latest Nvidia GPU series for gaming?\")"
   ]
  },
  {
   "cell_type": "code",
   "execution_count": null,
   "metadata": {},
   "outputs": [],
   "source": [
    "# Try your own questions here!\n",
    "your_question = \"\"\n",
    "ask_router_rag(your_question)"
   ]
  },
  {
   "cell_type": "markdown",
   "metadata": {},
   "source": [
    "## Comparison: Router RAG vs Basic RAG\n",
    "\n",
    "Let's compare how Router RAG improves upon Basic RAG:\n",
    "\n",
    "### Router RAG Advantages:\n",
    "\n",
    "1. **Intent-Aware Routing**: Queries are automatically classified and routed to the most relevant collection\n",
    "2. **Focused Context**: Only relevant documents are retrieved, eliminating noise from unrelated collections\n",
    "3. **Domain Expertise**: Each collection can be optimized for its specific domain (products, support, policies)\n",
    "4. **Better Precision**: Reduced false positives from semantically similar but contextually irrelevant documents\n",
    "5. **Cleaner Answers**: Responses are more focused and less confused by mixed context types\n",
    "6. **Integration with Multiple Data Sources / Web Search**: Current information retrieval for troubleshooting issues not in our database\n",
    "\n",
    "### When Router RAG Excels:\n",
    "\n",
    "- **Domain-Specific Questions**: \"What laptops do you have?\" → Direct to catalog\n",
    "- **Policy Questions**: \"How do returns work?\" → Direct to FAQ\n",
    "- **Technical Support**: \"Screen flickering issue\" → Direct to troubleshooting\n",
    "- **Current Information**: \"Windows 11 blue screen error\" → Direct to web search\n",
    "\n",
    "### Remaining Challenges:\n",
    "\n",
    "- **Multi-Domain & Multi-Hop Queries**: Questions spanning multiple collections, or needing multple steps.\n",
    "- **Router Accuracy**: Misclassification by the router can lead to searching the wrong collection\n",
    "- **Noisy Documents within a Collection**: Even when querying a single index, the retriever can still return noisy / irrelevant documents.\n"
   ]
  }
 ],
 "metadata": {
  "kernelspec": {
   "display_name": ".venv",
   "language": "python",
   "name": "python3"
  },
  "language_info": {
   "codemirror_mode": {
    "name": "ipython",
    "version": 3
   },
   "file_extension": ".py",
   "mimetype": "text/x-python",
   "name": "python",
   "nbconvert_exporter": "python",
   "pygments_lexer": "ipython3",
   "version": "3.12.5"
  }
 },
 "nbformat": 4,
 "nbformat_minor": 4
}
