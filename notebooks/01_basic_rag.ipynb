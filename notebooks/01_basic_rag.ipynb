{
 "cells": [
  {
   "cell_type": "markdown",
   "metadata": {},
   "source": [
    "# Basic RAG with LangGraph\n",
    "\n",
    "This notebook demonstrates how to build a simple Retrieval-Augmented Generation (RAG) system using LangGraph.\n",
    "\n",
    "## What is RAG?\n",
    "\n",
    "RAG combines the power of information retrieval with large language models:\n",
    "1. **Retrieve**: Find relevant documents from a knowledge base\n",
    "2. **Generate**: Use those documents as context to generate accurate answers\n",
    "\n",
    "## Learning Objectives\n",
    "\n",
    "By the end of this notebook, you will:\n",
    "- Understand the basic RAG workflow\n",
    "- Connect to a pre-existing ChromaDB vector store\n",
    "- Build a simple LangGraph with retrieve and generate nodes\n",
    "- Query your RAG system with real questions"
   ]
  },
  {
   "cell_type": "markdown",
   "metadata": {},
   "source": [
    "## Setup and Imports\n",
    "\n",
    "First, let's import all the necessary libraries for our RAG system."
   ]
  },
  {
   "cell_type": "code",
   "execution_count": 1,
   "metadata": {},
   "outputs": [
    {
     "name": "stdout",
     "output_type": "stream",
     "text": [
      "All imports successful!\n"
     ]
    }
   ],
   "source": [
    "import os\n",
    "from pathlib import Path\n",
    "from typing import List, TypedDict\n",
    "\n",
    "from dotenv import load_dotenv\n",
    "from langchain_chroma import Chroma\n",
    "from langchain_core.documents import Document\n",
    "from langchain_core.prompts import ChatPromptTemplate\n",
    "from langchain_openai import ChatOpenAI, OpenAIEmbeddings\n",
    "from langgraph.graph import StateGraph\n",
    "from IPython.display import Image, display\n",
    "\n",
    "# Load environment variables\n",
    "load_dotenv()\n",
    "\n",
    "print(\"All imports successful!\")"
   ]
  },
  {
   "cell_type": "markdown",
   "metadata": {},
   "source": [
    "## Environment Setup\n",
    "\n",
    "Make sure you have your OpenAI API key set up in your environment variables."
   ]
  },
  {
   "cell_type": "code",
   "execution_count": 2,
   "metadata": {},
   "outputs": [
    {
     "name": "stdout",
     "output_type": "stream",
     "text": [
      "OpenAI API key found!\n"
     ]
    }
   ],
   "source": [
    "# Check if OpenAI API key is available\n",
    "openai_api_key = os.getenv(\"OPENAI_API_KEY\")\n",
    "if not openai_api_key:\n",
    "    raise ValueError(\"OPENAI_API_KEY environment variable is required\")\n",
    "\n",
    "print(\"OpenAI API key found!\")"
   ]
  },
  {
   "cell_type": "markdown",
   "metadata": {},
   "source": [
    "## Connect to ChromaDB Vector Store\n",
    "\n",
    "We'll connect to the pre-existing ChromaDB vector store that contains our TechMart data (product catalog, FAQ, and troubleshooting information)."
   ]
  },
  {
   "cell_type": "code",
   "execution_count": 3,
   "metadata": {},
   "outputs": [
    {
     "name": "stdout",
     "output_type": "stream",
     "text": [
      "Connected to ChromaDB at: ../vector_store/chroma_db_single\n",
      "Collection contains 529 documents\n"
     ]
    }
   ],
   "source": [
    "# Initialize embeddings model (same as used during ingestion)\n",
    "embeddings = OpenAIEmbeddings(\n",
    "    model=os.getenv(\"OPENAI_EMBEDDING_MODEL\", \"text-embedding-3-small\"),\n",
    "    api_key=openai_api_key\n",
    ")\n",
    "\n",
    "# Connect to the existing ChromaDB vector store\n",
    "chroma_db_path = Path(\"..\") / \"vector_store\" / \"chroma_db_single\"\n",
    "\n",
    "# check if path exists\n",
    "if not chroma_db_path.exists():\n",
    "    raise FileNotFoundError(f\"ChromaDB path does not exist: {chroma_db_path}\")\n",
    "\n",
    "vector_store = Chroma(\n",
    "    collection_name=\"techmart_data\",\n",
    "    embedding_function=embeddings,\n",
    "    persist_directory=str(chroma_db_path)\n",
    ")\n",
    "\n",
    "print(f\"Connected to ChromaDB at: {chroma_db_path}\")\n",
    "print(f\"Collection contains {vector_store._collection.count()} documents\")"
   ]
  },
  {
   "cell_type": "markdown",
   "metadata": {},
   "source": [
    "## Test the Vector Store\n",
    "\n",
    "Let's do a quick test to make sure our vector store is working correctly."
   ]
  },
  {
   "cell_type": "code",
   "execution_count": 8,
   "metadata": {},
   "outputs": [
    {
     "name": "stdout",
     "output_type": "stream",
     "text": [
      "Test query: 'when will my order be delivered?'\n",
      "Found 3 relevant documents\n",
      "\n",
      "Document 1:\n",
      "Source: techmart_faq.csv\n",
      "Content: question: How long does standard shipping take within the continental US? | answer: Standard shipping typically arrives in 3–5 business days once your order has left our warehouse. | tags: shipping,de...\n",
      "--------------------------------------------------\n",
      "Document 2:\n",
      "Source: techmart_faq.csv\n",
      "Content: question: Can I track my package after it ships? | answer: Absolutely. A tracking link is emailed to you as soon as the carrier scans your parcel; you can also view it under My Orders. | tags: shippin...\n",
      "--------------------------------------------------\n",
      "Document 3:\n",
      "Source: techmart_faq.csv\n",
      "Content: question: Do you offer next‑day delivery for laptops? | answer: Yes, we offer overnight delivery on all in‑stock laptops for orders placed before 2 p.m. local warehouse time. | tags: shipping,expedite...\n",
      "--------------------------------------------------\n"
     ]
    }
   ],
   "source": [
    "# Test the vector store with a simple query\n",
    "test_query = \"when will my order be delivered?\"\n",
    "test_results = vector_store.similarity_search(test_query, k=3)\n",
    "\n",
    "print(f\"Test query: '{test_query}'\")\n",
    "print(f\"Found {len(test_results)} relevant documents\")\n",
    "print()\n",
    "\n",
    "for i, doc in enumerate(test_results, 1):\n",
    "    print(f\"Document {i}:\")\n",
    "    print(f\"Source: {doc.metadata.get('source', 'Unknown')}\")\n",
    "    print(f\"Content: {doc.page_content[:200]}...\")\n",
    "    print(\"-\" * 50)"
   ]
  },
  {
   "cell_type": "markdown",
   "metadata": {},
   "source": [
    "## Initialize Language Model\n",
    "\n",
    "We'll use OpenAI's GPT model for generating responses based on the retrieved context."
   ]
  },
  {
   "cell_type": "code",
   "execution_count": 9,
   "metadata": {},
   "outputs": [
    {
     "name": "stdout",
     "output_type": "stream",
     "text": [
      "Language model initialized: gpt-4.1\n"
     ]
    }
   ],
   "source": [
    "# Initialize the language model\n",
    "llm = ChatOpenAI(\n",
    "    model=os.getenv(\"OPENAI_MODEL\", \"gpt-4.1\"),\n",
    "    api_key=openai_api_key,\n",
    "    temperature=0  # Low temperature for more consistent responses\n",
    ")\n",
    "\n",
    "print(f\"Language model initialized: {llm.model_name}\")"
   ]
  },
  {
   "cell_type": "markdown",
   "metadata": {},
   "source": [
    "## Define the RAG Prompt Template\n",
    "\n",
    "This template will guide how the language model uses the retrieved context to answer questions."
   ]
  },
  {
   "cell_type": "code",
   "execution_count": 10,
   "metadata": {},
   "outputs": [
    {
     "name": "stdout",
     "output_type": "stream",
     "text": [
      "RAG prompt template created!\n"
     ]
    }
   ],
   "source": [
    "# Create a prompt template for RAG\n",
    "rag_prompt = ChatPromptTemplate.from_template(\n",
    "    \"\"\"You are a helpful assistant for TechMart, an electronics retailer. \n",
    "Use the following context to answer the user's question accurately and helpfully.\n",
    "\n",
    "Context:\n",
    "{context}\n",
    "\n",
    "Question: {question}\n",
    "\n",
    "Instructions:\n",
    "- Base your answer primarily on the provided context\n",
    "- If the context doesn't contain enough information, say so clearly\n",
    "- Be specific and helpful in your response\n",
    "- If recommending products, mention specific model names and key features\n",
    "\n",
    "Answer:\"\"\"\n",
    ")\n",
    "\n",
    "print(\"RAG prompt template created!\")"
   ]
  },
  {
   "cell_type": "markdown",
   "metadata": {},
   "source": [
    "## Define the State for LangGraph\n",
    "\n",
    "LangGraph uses a state object to pass information between nodes. We'll define our state to include the question, retrieved context, and final answer."
   ]
  },
  {
   "cell_type": "code",
   "execution_count": 11,
   "metadata": {},
   "outputs": [
    {
     "name": "stdout",
     "output_type": "stream",
     "text": [
      "RAG state defined!\n"
     ]
    }
   ],
   "source": [
    "class RAGState(TypedDict):\n",
    "    \"\"\"State for our RAG workflow.\"\"\"\n",
    "    question: str\n",
    "    context: List[Document]\n",
    "    answer: str\n",
    "\n",
    "print(\"RAG state defined!\")"
   ]
  },
  {
   "cell_type": "markdown",
   "metadata": {},
   "source": [
    "## Create the Retrieve Node\n",
    "\n",
    "The retrieve node searches the vector store for relevant documents based on the user's question."
   ]
  },
  {
   "cell_type": "code",
   "execution_count": 12,
   "metadata": {},
   "outputs": [
    {
     "name": "stdout",
     "output_type": "stream",
     "text": [
      "Retrieve node created!\n"
     ]
    }
   ],
   "source": [
    "def retrieve(state: RAGState) -> RAGState:\n",
    "    \"\"\"Retrieve relevant documents based on the question.\"\"\"\n",
    "    question = state[\"question\"]\n",
    "    \n",
    "    # Search for relevant documents\n",
    "    retrieved_docs = vector_store.similarity_search(\n",
    "        question, \n",
    "        k=5  # Retrieve top 5 most relevant documents\n",
    "    )\n",
    "    \n",
    "    print(f\"Retrieved {len(retrieved_docs)} documents for: '{question}'\")\n",
    "    \n",
    "    # Print first 100 characters of each retrieved document with source\n",
    "    for i, doc in enumerate(retrieved_docs, 1):\n",
    "        source = doc.metadata.get('source', 'Unknown')\n",
    "        content_preview = doc.page_content[:100]\n",
    "        print(f\"  Doc {i} [{source}]: {content_preview}...\")\n",
    "    \n",
    "    return {\"context\": retrieved_docs}\n",
    "\n",
    "print(\"Retrieve node created!\")"
   ]
  },
  {
   "cell_type": "markdown",
   "metadata": {},
   "source": [
    "## Create the Generate Node\n",
    "\n",
    "The generate node uses the retrieved context and the language model to generate a comprehensive answer."
   ]
  },
  {
   "cell_type": "code",
   "execution_count": 13,
   "metadata": {},
   "outputs": [
    {
     "name": "stdout",
     "output_type": "stream",
     "text": [
      "Generate node created!\n"
     ]
    }
   ],
   "source": [
    "def generate(state: RAGState) -> RAGState:\n",
    "    \"\"\"Generate an answer based on the retrieved context.\"\"\"\n",
    "    question = state[\"question\"]\n",
    "    context_docs = state[\"context\"]\n",
    "    \n",
    "    # Combine context from all retrieved documents\n",
    "    context_text = \"\\n\\n\".join([\n",
    "        f\"Source: {doc.metadata.get('source', 'Unknown')}\\nContent: {doc.page_content}\"\n",
    "        for doc in context_docs\n",
    "    ])\n",
    "    \n",
    "    # Create the prompt with context and question\n",
    "    messages = rag_prompt.invoke({\n",
    "        \"context\": context_text,\n",
    "        \"question\": question\n",
    "    })\n",
    "    \n",
    "    # Generate response using the language model\n",
    "    response = llm.invoke(messages)\n",
    "    \n",
    "    return {\"answer\": response.content}\n",
    "\n",
    "print(\"Generate node created!\")"
   ]
  },
  {
   "cell_type": "markdown",
   "metadata": {},
   "source": [
    "## Build the RAG Graph\n",
    "\n",
    "Now we'll create our graph by connecting the retrieve and generate nodes in sequence."
   ]
  },
  {
   "cell_type": "code",
   "execution_count": 14,
   "metadata": {},
   "outputs": [
    {
     "name": "stdout",
     "output_type": "stream",
     "text": [
      "RAG graph compiled successfully!\n",
      "Workflow: retrieve -> generate\n"
     ]
    }
   ],
   "source": [
    "# Create the graph builder\n",
    "graph_builder = StateGraph(RAGState)\n",
    "\n",
    "# Add nodes to the graph\n",
    "graph_builder.add_node(\"retrieve\", retrieve)\n",
    "graph_builder.add_node(\"generate\", generate)\n",
    "\n",
    "# Define the workflow: retrieve -> generate\n",
    "graph_builder.add_edge(\"retrieve\", \"generate\")\n",
    "\n",
    "# Set the entry point\n",
    "graph_builder.set_entry_point(\"retrieve\")\n",
    "\n",
    "# Set the finish point\n",
    "graph_builder.set_finish_point(\"generate\")\n",
    "\n",
    "# Compile the graph\n",
    "rag_graph = graph_builder.compile()\n",
    "\n",
    "print(\"RAG graph compiled successfully!\")\n",
    "print(\"Workflow: retrieve -> generate\")"
   ]
  },
  {
   "cell_type": "markdown",
   "metadata": {},
   "source": [
    "## Visualize the RAG Graph\n",
    "\n",
    "Let's visualize our simple RAG workflow to see how the nodes are connected."
   ]
  },
  {
   "cell_type": "code",
   "execution_count": 15,
   "metadata": {},
   "outputs": [
    {
     "data": {
      "image/png": "[encoded data removed]",
      "text/plain": [
       "<IPython.core.display.Image object>"
      ]
     },
     "metadata": {},
     "output_type": "display_data"
    }
   ],
   "source": [
    "from IPython.display import Image, display\n",
    "\n",
    "display(Image(rag_graph.get_graph().draw_mermaid_png()))"
   ]
  },
  {
   "cell_type": "markdown",
   "metadata": {},
   "source": [
    "## Test the RAG System\n",
    "\n",
    "Let's test our RAG system with some sample questions about TechMart products."
   ]
  },
  {
   "cell_type": "code",
   "execution_count": 16,
   "metadata": {},
   "outputs": [],
   "source": [
    "def ask_question(question: str):\n",
    "    \"\"\"Helper function to ask a question to our RAG system.\"\"\"\n",
    "    print(f\"\\nQuestion: {question}\")\n",
    "    print(\"=\" * 60)\n",
    "    \n",
    "    # Run the RAG workflow\n",
    "    result = rag_graph.invoke({\"question\": question})\n",
    "    \n",
    "    print(f\"\\nAnswer: {result['answer']}\")\n",
    "    print(\"=\" * 60)"
   ]
  },
  {
   "cell_type": "code",
   "execution_count": 27,
   "metadata": {},
   "outputs": [
    {
     "name": "stdout",
     "output_type": "stream",
     "text": [
      "\n",
      "Question: How long does it take it take to ship to the US?\n",
      "============================================================\n",
      "Retrieved 5 documents for: 'How long does it take it take to ship to the US?'\n",
      "  Doc 1 [techmart_faq.csv]: question: How long does standard shipping take within the continental US? | answer: Standard shippin...\n",
      "  Doc 2 [techmart_faq.csv]: question: Which countries do you ship to? | answer: TechMart currently ships to the US, Canada, the ...\n",
      "  Doc 3 [techmart_faq.csv]: question: How much does international shipping cost? | answer: International shipping starts at USD ...\n",
      "  Doc 4 [techmart_faq.csv]: question: Will I have to pay customs duties? | answer: Orders shipped outside the US may be subject ...\n",
      "  Doc 5 [techmart_faq.csv]: question: What happens if my package is lost in transit? | answer: If your tracking hasn’t updated f...\n",
      "\n",
      "Answer: Standard shipping within the continental US typically arrives in 3–5 business days once your order has left our warehouse. If you need your order sooner or have specific delivery requirements, please let us know!\n",
      "============================================================\n"
     ]
    }
   ],
   "source": [
    "# Test question 1: FAQ Enquiry\n",
    "ask_question(\"How long does it take it take to ship to the US?\")"
   ]
  },
  {
   "cell_type": "code",
   "execution_count": 28,
   "metadata": {},
   "outputs": [
    {
     "name": "stdout",
     "output_type": "stream",
     "text": [
      "\n",
      "Question: What are the specs of the UltraBook Pro 14?\n",
      "============================================================\n",
      "Retrieved 5 documents for: 'What are the specs of the UltraBook Pro 14?'\n",
      "  Doc 1 [techmart_catalog.csv]: product_id: SKU001 | name: UltraBook Pro 14 Laptop | category: Laptop | price: 1499.0 | short_desc: ...\n",
      "  Doc 2 [techmart_catalog.csv]: product_id: SKU164 | name: ZenithBook Air 13 | category: Laptop | price: 1199.0 | short_desc: Ultra-...\n",
      "  Doc 3 [techmart_catalog.csv]: product_id: SKU232 | name: ZenithBook 11 Evo | category: Laptop | price: 1299.0 | short_desc: A slee...\n",
      "  Doc 4 [techmart_catalog.csv]: product_id: SKU057 | name: ZenithBook 13 Evo | category: Laptop | price: 1299.0 | short_desc: Sleek ...\n",
      "  Doc 5 [techmart_catalog.csv]: product_id: SKU053 | name: ZenithBook Air 15 | category: Laptop | price: 1299.0 | short_desc: Sleek ...\n",
      "\n",
      "Answer: Here are the specifications of the UltraBook Pro 14 Laptop:\n",
      "\n",
      "- **Processor (CPU):** Intel Core i7‑1370P (13th generation)\n",
      "- **RAM:** 16 GB LPDDR5\n",
      "- **Storage:** 512 GB SSD\n",
      "- **Display:** 14‑inch 2.8 K OLED (2880×1800) – delivers crisp text and true blacks\n",
      "- **Battery Life:** Up to 12 hours of real‑world use (72 Wh battery)\n",
      "- **Weight:** 1.2 kg (ultra-light alloy chassis)\n",
      "- **Ports:**\n",
      "  - 2× Thunderbolt 4\n",
      "  - 1× USB‑A 3.2\n",
      "  - HDMI 2.1\n",
      "  - 3.5 mm audio jack\n",
      "\n",
      "**Summary:**  \n",
      "The UltraBook Pro 14 is a premium, lightweight notebook designed for professionals on the go, offering a powerful 13th-gen Core i7 processor, a vivid OLED display, and long battery life in a compact 1.2 kg chassis.\n",
      "============================================================\n"
     ]
    }
   ],
   "source": [
    "# Test question 2: Specific product inquiry\n",
    "ask_question(\"What are the specs of the UltraBook Pro 14?\")"
   ]
  },
  {
   "cell_type": "code",
   "execution_count": 29,
   "metadata": {},
   "outputs": [
    {
     "name": "stdout",
     "output_type": "stream",
     "text": [
      "\n",
      "Question: My wireless mouse keeps disconnecting\n",
      "============================================================\n",
      "Retrieved 5 documents for: 'My wireless mouse keeps disconnecting'\n",
      "  Doc 1 [techmart_troubleshooting.csv]: issue_title: Wireless mouse disconnects randomly | product_id: SKU010 | symptoms: Cursor freezes for...\n",
      "  Doc 2 [techmart_troubleshooting.csv]: issue_title: Mouse Pointer Lag or Stuttering in Wireless Mode | product_id: SKU035 | symptoms: When ...\n",
      "  Doc 3 [techmart_troubleshooting.csv]: issue_title: Mouse Pointer Lagging or Stuttering During Use | product_id: SKU236 | symptoms: While m...\n",
      "  Doc 4 [techmart_troubleshooting.csv]: issue_title: Mouse Pointer Lag or Stuttering During Use | product_id: SKU102 | symptoms: While using...\n",
      "  Doc 5 [techmart_troubleshooting.csv]: issue_title: Mouse cursor movement is erratic or jittery | product_id: SKU186 | symptoms: When using...\n",
      "\n",
      "Answer: I'm sorry to hear your wireless mouse keeps disconnecting. Based on the information from TechMart’s troubleshooting guide, here are some steps you can try to resolve the issue:\n",
      "\n",
      "**If your mouse is experiencing random disconnects (e.g., cursor freezes for 1–2 seconds, USB dongle LED blinks red, happens every 5–10 minutes):**\n",
      "\n",
      "1. **Move the receiver:** Plug the wireless receiver (USB dongle) into a front USB port on your computer. This can help reduce wireless interference from other devices or the computer’s case.\n",
      "2. **Check the battery:** Replace the AA battery or charge your mouse for at least 30 minutes. Low battery can cause disconnects.\n",
      "3. **Re-pair the mouse:** If your mouse has a 2.4 GHz / Bluetooth switch, toggle it and re-pair the mouse with your computer.\n",
      "4. **Update firmware:** Use the manufacturer’s utility (for example, GlideMouse Utility) to update your mouse’s firmware, then reboot your PC.\n",
      "\n",
      "**Additional tips (if the above doesn’t help):**\n",
      "- Avoid using USB hubs or extension cables for the receiver.\n",
      "- Keep the receiver and mouse away from other wireless devices (like Wi-Fi routers or Bluetooth dongles) and large metal objects.\n",
      "- Test the mouse on another computer to see if the issue persists. If it does, the mouse may need servicing or replacement.\n",
      "\n",
      "**If you need a replacement:**  \n",
      "TechMart offers several reliable wireless mice, such as the **SwiftPoint MX7 Wireless Mouse** (known for smooth performance and long battery life) and the **GlideTech Pulse X Wireless Mouse** (featuring a high-precision PixArt sensor and robust wireless connectivity).\n",
      "\n",
      "If you continue to have issues after trying these steps, please contact TechMart Support with your product ID and a summary of the troubleshooting steps you’ve completed. We’re here to help!\n",
      "============================================================\n"
     ]
    }
   ],
   "source": [
    "# Test question 3: Technical support question\n",
    "ask_question(\"My wireless mouse keeps disconnecting\")"
   ]
  },
  {
   "cell_type": "markdown",
   "metadata": {},
   "source": [
    "## Try it out!\n",
    "\n",
    "Now you can ask your own questions! Try asking about:\n",
    "- Product recommendations\n",
    "- Technical specifications\n",
    "- Troubleshooting issues\n",
    "- Product comparisons"
   ]
  },
  {
   "cell_type": "code",
   "execution_count": 30,
   "metadata": {},
   "outputs": [
    {
     "name": "stdout",
     "output_type": "stream",
     "text": [
      "\n",
      "Question: What is the warranty on the nanowave ssd?\n",
      "============================================================\n",
      "Retrieved 5 documents for: 'What is the warranty on the nanowave ssd?'\n",
      "  Doc 1 [techmart_catalog.csv]: product_id: SKU126 | name: NanoVault X8 NVMe SSD | category: Storage | price: 179.99 | short_desc: H...\n",
      "  Doc 2 [techmart_faq.csv]: question: How long is the warranty on laptops? | answer: All TechMart laptops carry a 1‑year limited...\n",
      "  Doc 3 [techmart_faq.csv]: question: Are batteries covered under warranty? | answer: Rechargeable batteries are warranted for o...\n",
      "  Doc 4 [techmart_catalog.csv]: product_id: SKU297 | name: FlashCore X5 NVMe SSD | category: Storage | price: 179.99 | short_desc: H...\n",
      "  Doc 5 [techmart_catalog.csv]: product_id: SKU147 | name: RapidStor NVMe X5 SSD | category: Storage | price: 179.99 | short_desc: H...\n",
      "\n",
      "Answer: Based on the provided context, there is no information about a \"nanowave ssd\" in the TechMart catalog. If you are referring to the NanoVault X8 NVMe SSD, it comes with a 5-year warranty. If you meant a different product, please provide the exact model name or check the product listing for warranty details. Let me know if you need information on any specific SSD models like the NanoVault X8, FlashCore X5, or RapidStor NVMe X5!\n",
      "============================================================\n"
     ]
    }
   ],
   "source": [
    "# Ask your own question here!\n",
    "your_question = \"What is the warranty on the nanowave ssd?\"\n",
    "ask_question(your_question)"
   ]
  },
  {
   "cell_type": "markdown",
   "metadata": {},
   "source": [
    "## Limitations of Basic RAG\n",
    "\n",
    "While our basic RAG system works well for simple questions, it has some limitations. Right now, all our documents are ingested into a single vector db index.\n",
    "\n",
    "Let's explore what happens when we ask questions that span multiple domains or have ambiguous intent.\n",
    "\n",
    "### Our Data\n",
    "\n",
    "Our TechMart database contains three distinct types of information:\n",
    "\n",
    "1. **Product Catalog** (~532 products): Detailed specs and descriptions of laptops, desktops, monitors, and audio equipment\n",
    "2. **FAQ** (~51 Q&As): Customer service information about shipping, delivery, returns, and policies  \n",
    "3. **Troubleshooting** (~1115 issues): Technical problems and step-by-step solutions for specific products\n",
    "\n",
    "### The Problems\n",
    "\n",
    "The current system faces several challenges:\n",
    "\n",
    "#### 1. Context Confusion Within Static Data\n",
    "- **Context confusion**: Mixing product specs with shipping policies\n",
    "- **Intent ambiguity**: Keywords that mean different things in different domains\n",
    "- **Irrelevant context**: Wrong document types polluting the answer\n",
    "\n",
    "#### 2. Outdated Information Limitations\n",
    "Our vector database only contains static, pre-ingested information, which creates significant gaps:\n",
    "- **Stale troubleshooting**: Software issues and bug fixes change rapidly - our stored solutions may be outdated\n",
    "- **Missing latest updates**: New driver versions, firmware updates, or compatibility patches aren't reflected\n",
    "- **Generic limitations**: For complex technical issues, we might need current community forums, official documentation, or vendor support pages\n",
    "\n",
    "#### 3. Multi-Source Intelligence Challenges\n",
    "As we expand beyond our internal knowledge base to include real-time information sources, new complexities emerge:\n",
    "- **Source selection**: Determining whether to query internal docs, search the web, or check vendor APIs\n",
    "- **Information routing**: Knowing when a customer needs product specs (internal) vs. latest driver updates (external)\n",
    "- **Context prioritization**: Balancing comprehensive internal knowledge with fresh external information\n",
    "\n",
    "Let's see these limitations in action with some problematic questions."
   ]
  },
  {
   "cell_type": "markdown",
   "metadata": {},
   "source": [
    "## Problematic Questions\n",
    "\n",
    "Let's test our basic RAG system with questions that expose its limitations. Notice how these questions retrieve mixed or inappropriate context.\n",
    "\n",
    "### Question 1: Multi-Domain Query"
   ]
  },
  {
   "cell_type": "code",
   "execution_count": 31,
   "metadata": {},
   "outputs": [
    {
     "name": "stdout",
     "output_type": "stream",
     "text": [
      "\n",
      "Question: Do you have bluetooth headphones and how fast can they be shipped within the US?\n",
      "============================================================\n",
      "Retrieved 5 documents for: 'Do you have bluetooth headphones and how fast can they be shipped within the US?'\n",
      "  Doc 1 [techmart_faq.csv]: question: Do you offer next‑day delivery for laptops? | answer: Yes, we offer overnight delivery on ...\n",
      "  Doc 2 [techmart_catalog.csv]: product_id: SKU309 | name: EchoPulse True Wireless Earbuds | category: Audio | price: 159.0 | short_...\n",
      "  Doc 3 [techmart_catalog.csv]: product_id: SKU266 | name: EchoPulse True Wireless Earbuds | category: Audio | price: 129.0 | short_...\n",
      "  Doc 4 [techmart_catalog.csv]: product_id: SKU008 | name: SoundWave ANC Headphones | category: Audio | price: 249.0 | short_desc: S...\n",
      "  Doc 5 [techmart_catalog.csv]: product_id: SKU287 | name: EchoPulse True Wireless Earbuds | category: Audio | price: 129.0 | short_...\n",
      "\n",
      "Answer: Yes, we do have Bluetooth headphones available. One option is the SoundWave ANC Headphones, which feature Bluetooth 5.3 connectivity, hybrid active noise cancelling up to 40 dB, 40 mm graphene drivers for punchy bass, and fast-charging (5 hours playback from a 10-minute charge).\n",
      "\n",
      "For shipping, while the context specifically confirms next-day (overnight) delivery for in-stock laptops, it does not provide explicit information about expedited shipping options for headphones or other audio products. If you need fast shipping for headphones, please contact our customer service to confirm available delivery options for your location.\n",
      "============================================================\n"
     ]
    }
   ],
   "source": [
    "# This question spans both product selection AND shipping policy\n",
    "ask_question(\"Do you have bluetooth headphones and how fast can they be shipped within the US?\")"
   ]
  },
  {
   "cell_type": "markdown",
   "metadata": {},
   "source": [
    "### Question 2: Troubleshooting vs Product Info"
   ]
  },
  {
   "cell_type": "code",
   "execution_count": 55,
   "metadata": {},
   "outputs": [
    {
     "name": "stdout",
     "output_type": "stream",
     "text": [
      "\n",
      "Question: ultrabook pro charging ports\n",
      "============================================================\n",
      "Retrieved 5 documents for: 'ultrabook pro charging ports'\n",
      "  Doc 1 [techmart_troubleshooting.csv]: issue_title: ZenithBook Air 15 Not Charging When Plugged In via USB-C | product_id: SKU053 | symptom...\n",
      "  Doc 2 [techmart_troubleshooting.csv]: issue_title: Laptop Does Not Charge When Plugged Into Thunderbolt 4 Port | product_id: SKU230 | symp...\n",
      "  Doc 3 [techmart_troubleshooting.csv]: issue_title: Laptop Does Not Charge When Plugged Into USB-C Port | product_id: SKU050 | symptoms: Wh...\n",
      "  Doc 4 [techmart_troubleshooting.csv]: issue_title: Laptop Not Charging When Connected to USB-C Power Adapter | product_id: SKU177 | sympto...\n",
      "  Doc 5 [techmart_troubleshooting.csv]: issue_title: ZenithBook 15 Evo Not Charging When Plugged In via Thunderbolt 4 | product_id: SKU050 |...\n",
      "\n",
      "Answer: Based on the provided context, there is no specific troubleshooting or technical information available regarding the charging ports of the \"Ultrabook Pro\" model. The context only includes details for the following laptop models:\n",
      "\n",
      "- ZenithBook Air 15\n",
      "- ZenithBook 15 Evo\n",
      "- AeroFlex 15 Evo\n",
      "\n",
      "If you need information about the charging ports (such as type, location, or troubleshooting steps) for the Ultrabook Pro, please provide more details or check the official TechMart product page or user manual for that model. If you have a specific issue with the Ultrabook Pro’s charging ports, let us know the symptoms, and we’ll do our best to assist you!\n",
      "============================================================\n"
     ]
    }
   ],
   "source": [
    "# This should retrieve product info, but might get troubleshooting steps instead\n",
    "ask_question(\"ultrabook pro charging ports\")"
   ]
  },
  {
   "cell_type": "markdown",
   "metadata": {},
   "source": [
    "### Question 4: Policy vs Product Confusion"
   ]
  },
  {
   "cell_type": "code",
   "execution_count": 36,
   "metadata": {},
   "outputs": [
    {
     "name": "stdout",
     "output_type": "stream",
     "text": [
      "\n",
      "Question: What's your return policy for monitors?\n",
      "============================================================\n",
      "Retrieved 5 documents for: 'What's your return policy for monitors?'\n",
      "  Doc 1 [techmart_faq.csv]: question: What is your return window? | answer: Most products can be returned in like‑new condition ...\n",
      "  Doc 2 [techmart_catalog.csv]: product_id: SKU007 | name: VisionView 24 FHD Monitor | category: Monitor | price: 179.0 | short_desc...\n",
      "  Doc 3 [techmart_catalog.csv]: product_id: SKU006 | name: VisionView 34 Ultrawide Monitor | category: Monitor | price: 699.0 | shor...\n",
      "  Doc 4 [techmart_faq.csv]: question: What if I receive a damaged product? | answer: Please email photos of the damage within 48...\n",
      "  Doc 5 [techmart_catalog.csv]: product_id: SKU312 | name: PixelFusion 32 QHD Monitor | category: Monitor | price: 379.0 | short_des...\n",
      "\n",
      "Answer: Our return policy for monitors is as follows: Most products, including monitors, can be returned in like‑new condition within 30 days of delivery for a full refund. If you receive a damaged monitor, please email photos of the damage within 48 hours, and we’ll arrange a free pickup and replacement.\n",
      "\n",
      "If you need help choosing a monitor, we offer several options such as the VisionView 24 FHD Monitor (affordable 24-inch IPS panel, low blue-light tech), the PixelFusion 32 QHD Monitor (32-inch QHD IPS, 165Hz refresh, USB-C), and the VisionView 34 Ultrawide Monitor (34-inch curved VA panel, 165Hz, ultrawide resolution). Let us know if you’d like more details on any model!\n",
      "============================================================\n"
     ]
    }
   ],
   "source": [
    "# Should focus on return/warranty policy, but might get monitor specs / you can see noisy documents below\n",
    "ask_question(\"What's your return policy for monitors?\")"
   ]
  },
  {
   "cell_type": "markdown",
   "metadata": {},
   "source": [
    "### Question 5: Multi-hop query"
   ]
  },
  {
   "cell_type": "code",
   "execution_count": 37,
   "metadata": {},
   "outputs": [
    {
     "name": "stdout",
     "output_type": "stream",
     "text": [
      "\n",
      "Question: battery life for zenithbook air 15 vs ultrapook 14 pro\n",
      "============================================================\n",
      "Retrieved 5 documents for: 'battery life for zenithbook air 15 vs ultrapook 14 pro'\n",
      "  Doc 1 [techmart_catalog.csv]: product_id: SKU053 | name: ZenithBook Air 15 | category: Laptop | price: 1299.0 | short_desc: Sleek ...\n",
      "  Doc 2 [techmart_catalog.csv]: product_id: SKU164 | name: ZenithBook Air 13 | category: Laptop | price: 1199.0 | short_desc: Ultra-...\n",
      "  Doc 3 [techmart_catalog.csv]: product_id: SKU050 | name: ZenithBook 15 Evo | category: Laptop | price: 1299.0 | short_desc: 15.6\" ...\n",
      "  Doc 4 [techmart_catalog.csv]: product_id: SKU177 | name: ZenithBook 12 Evo | category: Laptop | price: 1299.0 | short_desc: 15.6\" ...\n",
      "  Doc 5 [techmart_catalog.csv]: product_id: SKU057 | name: ZenithBook 13 Evo | category: Laptop | price: 1299.0 | short_desc: Sleek ...\n",
      "\n",
      "Answer: Based on the provided context, here is the battery life information:\n",
      "\n",
      "- **ZenithBook Air 15**: Up to **12 hours** of battery life.\n",
      "- **Ultrapook 14 Pro**: There is no information available in the provided context about the Ultrapook 14 Pro, including its battery life.\n",
      "\n",
      "If you need details specifically for the Ultrapook 14 Pro, please provide more information or check with TechMart support for further assistance.\n",
      "\n",
      "If you are comparing battery life, the **ZenithBook Air 15** offers a solid 12 hours, making it a good choice for professionals and creatives who need all-day performance.\n",
      "============================================================\n"
     ]
    }
   ],
   "source": [
    "# Need to look at product specs for both, but only retrieves the specs for zenithbook\n",
    "ask_question(\"battery life for zenithbook air 15 vs ultrapook 14 pro\")"
   ]
  },
  {
   "cell_type": "markdown",
   "metadata": {},
   "source": [
    "### Question 6: Lack of information\n"
   ]
  },
  {
   "cell_type": "code",
   "execution_count": 41,
   "metadata": {},
   "outputs": [
    {
     "name": "stdout",
     "output_type": "stream",
     "text": [
      "\n",
      "Question: How do I fix Windows 11 blue screen error 0x0000007E?\n",
      "============================================================\n",
      "Retrieved 5 documents for: 'How do I fix Windows 11 blue screen error 0x0000007E?'\n",
      "  Doc 1 [techmart_troubleshooting.csv]: issue_title: DataVault SSD not recognized by Windows | product_id: SKU020 | symptoms: Drive letter m...\n",
      "  Doc 2 [techmart_troubleshooting.csv]: issue_title: UltraBook Air Wi‑Fi disconnects frequently | product_id: SKU002 | symptoms: Wi‑Fi icon ...\n",
      "  Doc 3 [techmart_troubleshooting.csv]: issue_title: Thunderbolt 4 Ports Not Detecting External Displays | product_id: SKU208 | symptoms: Wh...\n",
      "  Doc 4 [techmart_troubleshooting.csv]: issue_title: No Display Output via HDMI 2.1 Port | product_id: SKU208 | symptoms: When connecting th...\n",
      "  Doc 5 [techmart_troubleshooting.csv]: issue_title: CoreStation X5 Desktop Fails to Boot (Fans Spin, No Display) | product_id: SKU294 | sym...\n",
      "\n",
      "Answer: The provided context does not contain specific troubleshooting steps for resolving the Windows 11 blue screen error 0x0000007E. \n",
      "\n",
      "If you need assistance with this error, please contact TechMart support or refer to official Microsoft resources for detailed troubleshooting steps. If you can provide more details about your device model or the circumstances of the error, I may be able to offer more targeted advice based on available information.\n",
      "============================================================\n"
     ]
    }
   ],
   "source": [
    "# This query requires current OS error information not in our TechMart database\n",
    "ask_question(\"How do I fix Windows 11 blue screen error 0x0000007E?\")"
   ]
  },
  {
   "cell_type": "markdown",
   "metadata": {},
   "source": [
    "### Question 7: Stale / limited information\n"
   ]
  },
  {
   "cell_type": "code",
   "execution_count": null,
   "metadata": {},
   "outputs": [
    {
     "name": "stdout",
     "output_type": "stream",
     "text": [
      "\n",
      "Question: Whats the latest Nvidia GPU series for gaming?\n",
      "============================================================\n",
      "Retrieved 5 documents for: 'Whats the latest Nvidia GPU series for gaming?'\n",
      "  Doc 1 [techmart_catalog.csv]: product_id: SKU068 | name: CoreStation S5 Tower Desktop | category: Desktop | price: 1249.0 | short_...\n",
      "  Doc 2 [techmart_catalog.csv]: product_id: SKU080 | name: PowerForge S5 Desktop | category: Desktop | price: 1399.0 | short_desc: M...\n",
      "  Doc 3 [techmart_catalog.csv]: product_id: SKU277 | name: CoreStation X5 Desktop | category: Desktop | price: 1299.0 | short_desc: ...\n",
      "  Doc 4 [techmart_catalog.csv]: product_id: SKU224 | name: PowerEdge Fusion X5 Desktop | category: Desktop | price: 1599.0 | short_d...\n",
      "  Doc 5 [techmart_catalog.csv]: product_id: SKU134 | name: CoreStation S5 Desktop | category: Desktop | price: 1299.0 | short_desc: ...\n",
      "\n",
      "Answer: Based on the provided context, the latest Nvidia GPU series featured in TechMart's current desktop lineup is the NVIDIA GeForce RTX 4060. All the listed gaming and creator desktops, such as the CoreStation S5 Tower Desktop, PowerForge S5 Desktop, CoreStation X5 Desktop, PowerEdge Fusion X5 Desktop, and CoreStation S5 Desktop, are equipped with the RTX 4060 8GB graphics card.\n",
      "\n",
      "If you're looking for a gaming desktop with the latest Nvidia GPU series available at TechMart, consider these models:\n",
      "\n",
      "- **CoreStation S5 Tower Desktop**: 13th Gen Intel Core i7, RTX 4060, 32GB RAM, 1TB NVMe SSD\n",
      "- **PowerForge S5 Desktop**: 13th Gen Intel Core i7, RTX 4060, 32GB DDR5 RAM, 1TB SSD\n",
      "- **PowerEdge Fusion X5 Desktop**: 13th Gen Intel Core i7-13700K, RTX 4060, 32GB RAM, 1TB NVMe SSD\n",
      "\n",
      "If you need information about newer Nvidia GPU series beyond the RTX 4060, the current context does not provide details on more recent models.\n",
      "============================================================\n"
     ]
    }
   ],
   "source": [
    "# This query requires current hardware information not in our database\n",
    "ask_question(\"Whats the latest Nvidia GPU series for gaming?\")"
   ]
  },
  {
   "cell_type": "markdown",
   "metadata": {},
   "source": [
    "We will see how to solve these limitations in the next exercises!"
   ]
  }
 ],
 "metadata": {
  "kernelspec": {
   "display_name": "Python 3 (ipykernel)",
   "language": "python",
   "name": "python3"
  },
  "language_info": {
   "codemirror_mode": {
    "name": "ipython",
    "version": 3
   },
   "file_extension": ".py",
   "mimetype": "text/x-python",
   "name": "python",
   "nbconvert_exporter": "python",
   "pygments_lexer": "ipython3",
   "version": "3.12.5"
  }
 },
 "nbformat": 4,
 "nbformat_minor": 4
}
